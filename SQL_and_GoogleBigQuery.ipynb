{
 "cells": [
  {
   "cell_type": "code",
   "execution_count": 13,
   "id": "35831123",
   "metadata": {},
   "outputs": [],
   "source": [
    "from google.cloud import bigquery\n",
    "import pyarrow"
   ]
  },
  {
   "cell_type": "code",
   "execution_count": 14,
   "id": "3c787d3f",
   "metadata": {},
   "outputs": [],
   "source": [
    "def implicit():\n",
    "    from google.cloud import storage\n",
    "\n",
    "    # If you don't specify credentials when constructing the client, the\n",
    "    # client library will look for credentials in the environment.\n",
    "    storage_client = storage.Client()\n",
    "\n",
    "    # Make an authenticated API request\n",
    "    buckets = list(storage_client.list_buckets())\n",
    "    print(buckets)"
   ]
  },
  {
   "cell_type": "markdown",
   "id": "03e2203f",
   "metadata": {},
   "source": [
    "The first step in the workflow is to create a Client object. As you'll soon see, this Client object will play a central role in retrieving information from BigQuery datasets."
   ]
  },
  {
   "cell_type": "code",
   "execution_count": 15,
   "id": "fe37e0f2",
   "metadata": {},
   "outputs": [],
   "source": [
    "import os\n",
    "os.environ[\"GOOGLE_APPLICATION_CREDENTIALS\"]=\"/Users/lihanwei/Downloads/formidable-fort-342720-747e794ef426.json\""
   ]
  },
  {
   "cell_type": "code",
   "execution_count": 16,
   "id": "84bc0061",
   "metadata": {},
   "outputs": [],
   "source": [
    "# Create a \"Client\" object\n",
    "client = bigquery.Client()"
   ]
  },
  {
   "cell_type": "markdown",
   "id": "cfc0cfdc",
   "metadata": {},
   "source": [
    "We'll work with a dataset of posts on Hacker News, a website focusing on computer science and cybersecurity news.\n",
    "\n",
    "In BigQuery, each dataset is contained in a corresponding project. In this case, our hacker_news dataset is contained in the bigquery-public-data project. To access the dataset,\n",
    "\n",
    "We begin by constructing a reference to the dataset with the dataset() method.\n",
    "Next, we use the get_dataset() method, along with the reference we just constructed, to fetch the dataset."
   ]
  },
  {
   "cell_type": "code",
   "execution_count": 17,
   "id": "44776527",
   "metadata": {},
   "outputs": [],
   "source": [
    "# Construct a reference to the \"hacker_news\" dataset\n",
    "dataset_ref = client.dataset(\"hacker_news\", project=\"bigquery-public-data\")\n",
    "\n",
    "# API request - fetch the dataset\n",
    "dataset = client.get_dataset(dataset_ref)"
   ]
  },
  {
   "cell_type": "markdown",
   "id": "cd904006",
   "metadata": {},
   "source": [
    "Every dataset is just a collection of tables. You can think of a dataset as a spreadsheet file containing multiple tables, all composed of rows and columns.\n",
    "\n",
    "We use the list_tables() method to list the tables in the dataset."
   ]
  },
  {
   "cell_type": "code",
   "execution_count": 18,
   "id": "2bec4e04",
   "metadata": {},
   "outputs": [
    {
     "name": "stdout",
     "output_type": "stream",
     "text": [
      "comments\n",
      "full\n",
      "full_201510\n",
      "stories\n"
     ]
    }
   ],
   "source": [
    "# List all the tables in the \"hacker_news\" dataset\n",
    "tables = list(client.list_tables(dataset))\n",
    "\n",
    "# Print names of all tables in the dataset (there are four!)\n",
    "for table in tables:  \n",
    "    print(table.table_id)"
   ]
  },
  {
   "cell_type": "markdown",
   "id": "5767fbc9",
   "metadata": {},
   "source": [
    "Similar to how we fetched a dataset, we can fetch a table. In the code cell below, we fetch the full table in the hacker_news dataset."
   ]
  },
  {
   "cell_type": "code",
   "execution_count": 19,
   "id": "3f6bf891",
   "metadata": {},
   "outputs": [],
   "source": [
    "# Construct a reference to the \"full\" table\n",
    "table_ref = dataset_ref.table(\"full\")\n",
    "\n",
    "# API request - fetch the table\n",
    "table = client.get_table(table_ref)"
   ]
  },
  {
   "cell_type": "markdown",
   "id": "6e5000f9",
   "metadata": {},
   "source": [
    "# Table schema\n",
    "The structure of a table is called its schema. We need to understand a table's schema to effectively pull out the data we want.\n",
    "\n",
    "In this example, we'll investigate the full table that we fetched above."
   ]
  },
  {
   "cell_type": "code",
   "execution_count": 20,
   "id": "aa2899cb",
   "metadata": {},
   "outputs": [
    {
     "data": {
      "text/plain": [
       "[SchemaField('title', 'STRING', 'NULLABLE', 'Story title', (), ()),\n",
       " SchemaField('url', 'STRING', 'NULLABLE', 'Story url', (), ()),\n",
       " SchemaField('text', 'STRING', 'NULLABLE', 'Story or comment text', (), ()),\n",
       " SchemaField('dead', 'BOOLEAN', 'NULLABLE', 'Is dead?', (), ()),\n",
       " SchemaField('by', 'STRING', 'NULLABLE', \"The username of the item's author.\", (), ()),\n",
       " SchemaField('score', 'INTEGER', 'NULLABLE', 'Story score', (), ()),\n",
       " SchemaField('time', 'INTEGER', 'NULLABLE', 'Unix time', (), ()),\n",
       " SchemaField('timestamp', 'TIMESTAMP', 'NULLABLE', 'Timestamp for the unix time', (), ()),\n",
       " SchemaField('type', 'STRING', 'NULLABLE', 'Type of details (comment, comment_ranking, poll, story, job, pollopt)', (), ()),\n",
       " SchemaField('id', 'INTEGER', 'NULLABLE', \"The item's unique id.\", (), ()),\n",
       " SchemaField('parent', 'INTEGER', 'NULLABLE', 'Parent comment ID', (), ()),\n",
       " SchemaField('descendants', 'INTEGER', 'NULLABLE', 'Number of story or poll descendants', (), ()),\n",
       " SchemaField('ranking', 'INTEGER', 'NULLABLE', 'Comment ranking', (), ()),\n",
       " SchemaField('deleted', 'BOOLEAN', 'NULLABLE', 'Is deleted?', (), ())]"
      ]
     },
     "execution_count": 20,
     "metadata": {},
     "output_type": "execute_result"
    }
   ],
   "source": [
    "# Print information on all the columns in the \"full\" table in the \"hacker_news\" dataset\n",
    "table.schema"
   ]
  },
  {
   "cell_type": "markdown",
   "id": "82663301",
   "metadata": {},
   "source": [
    "Each SchemaField tells us about a specific column (which we also refer to as a field). In order, the information is:\n",
    "\n",
    "The name of the column\n",
    "The field type (or datatype) in the column\n",
    "The mode of the column ('NULLABLE' means that a column allows NULL values, and is the default)\n",
    "A description of the data in that column\n",
    "The first field has the SchemaField:\n",
    "\n",
    "SchemaField('by', 'string', 'NULLABLE', \"The username of the item's author.\",())\n",
    "\n",
    "This tells us:\n",
    "\n",
    "the field (or column) is called by,\n",
    "the data in this field is strings,\n",
    "NULL values are allowed, and\n",
    "it contains the usernames corresponding to each item's author.\n",
    "We can use the list_rows() method to check just the first five lines of of the full table to make sure this is right. (Sometimes databases have outdated descriptions, so it's good to check.) This returns a BigQuery RowIterator object that can quickly be converted to a pandas DataFrame with the to_dataframe() method."
   ]
  },
  {
   "cell_type": "code",
   "execution_count": 21,
   "id": "f99dd8c3",
   "metadata": {},
   "outputs": [
    {
     "data": {
      "text/html": [
       "<div>\n",
       "<style scoped>\n",
       "    .dataframe tbody tr th:only-of-type {\n",
       "        vertical-align: middle;\n",
       "    }\n",
       "\n",
       "    .dataframe tbody tr th {\n",
       "        vertical-align: top;\n",
       "    }\n",
       "\n",
       "    .dataframe thead th {\n",
       "        text-align: right;\n",
       "    }\n",
       "</style>\n",
       "<table border=\"1\" class=\"dataframe\">\n",
       "  <thead>\n",
       "    <tr style=\"text-align: right;\">\n",
       "      <th></th>\n",
       "      <th>title</th>\n",
       "      <th>url</th>\n",
       "      <th>text</th>\n",
       "      <th>dead</th>\n",
       "      <th>by</th>\n",
       "      <th>score</th>\n",
       "      <th>time</th>\n",
       "      <th>timestamp</th>\n",
       "      <th>type</th>\n",
       "      <th>id</th>\n",
       "      <th>parent</th>\n",
       "      <th>descendants</th>\n",
       "      <th>ranking</th>\n",
       "      <th>deleted</th>\n",
       "    </tr>\n",
       "  </thead>\n",
       "  <tbody>\n",
       "    <tr>\n",
       "      <th>0</th>\n",
       "      <td>None</td>\n",
       "      <td>None</td>\n",
       "      <td>+1 for Starwhal; we played it so much in schoo...</td>\n",
       "      <td>None</td>\n",
       "      <td>toraora</td>\n",
       "      <td>NaN</td>\n",
       "      <td>1572373754</td>\n",
       "      <td>2019-10-29 18:29:14+00:00</td>\n",
       "      <td>comment</td>\n",
       "      <td>21390509</td>\n",
       "      <td>21390248</td>\n",
       "      <td>NaN</td>\n",
       "      <td>NaN</td>\n",
       "      <td>None</td>\n",
       "    </tr>\n",
       "    <tr>\n",
       "      <th>1</th>\n",
       "      <td>None</td>\n",
       "      <td>None</td>\n",
       "      <td>Long ago someone already had the bright idea o...</td>\n",
       "      <td>None</td>\n",
       "      <td>soulofmischief</td>\n",
       "      <td>NaN</td>\n",
       "      <td>1572373752</td>\n",
       "      <td>2019-10-29 18:29:12+00:00</td>\n",
       "      <td>comment</td>\n",
       "      <td>21390508</td>\n",
       "      <td>21390324</td>\n",
       "      <td>NaN</td>\n",
       "      <td>NaN</td>\n",
       "      <td>None</td>\n",
       "    </tr>\n",
       "    <tr>\n",
       "      <th>2</th>\n",
       "      <td>None</td>\n",
       "      <td>None</td>\n",
       "      <td>Seems to me this should be verified as legit d...</td>\n",
       "      <td>None</td>\n",
       "      <td>alistproducer2</td>\n",
       "      <td>NaN</td>\n",
       "      <td>1475610309</td>\n",
       "      <td>2016-10-04 19:45:09+00:00</td>\n",
       "      <td>comment</td>\n",
       "      <td>12638720</td>\n",
       "      <td>12638449</td>\n",
       "      <td>NaN</td>\n",
       "      <td>NaN</td>\n",
       "      <td>None</td>\n",
       "    </tr>\n",
       "    <tr>\n",
       "      <th>3</th>\n",
       "      <td>None</td>\n",
       "      <td>None</td>\n",
       "      <td>Here (Oregon) was the first place to legalize ...</td>\n",
       "      <td>None</td>\n",
       "      <td>davidw</td>\n",
       "      <td>NaN</td>\n",
       "      <td>1475610322</td>\n",
       "      <td>2016-10-04 19:45:22+00:00</td>\n",
       "      <td>comment</td>\n",
       "      <td>12638721</td>\n",
       "      <td>12635494</td>\n",
       "      <td>NaN</td>\n",
       "      <td>NaN</td>\n",
       "      <td>None</td>\n",
       "    </tr>\n",
       "    <tr>\n",
       "      <th>4</th>\n",
       "      <td>None</td>\n",
       "      <td>None</td>\n",
       "      <td>Here&amp;#x27;s a great &amp;quot;wat&amp;quot; talk for A...</td>\n",
       "      <td>None</td>\n",
       "      <td>evan121</td>\n",
       "      <td>NaN</td>\n",
       "      <td>1475610324</td>\n",
       "      <td>2016-10-04 19:45:24+00:00</td>\n",
       "      <td>comment</td>\n",
       "      <td>12638722</td>\n",
       "      <td>12638187</td>\n",
       "      <td>NaN</td>\n",
       "      <td>NaN</td>\n",
       "      <td>None</td>\n",
       "    </tr>\n",
       "  </tbody>\n",
       "</table>\n",
       "</div>"
      ],
      "text/plain": [
       "  title   url                                               text  dead  \\\n",
       "0  None  None  +1 for Starwhal; we played it so much in schoo...  None   \n",
       "1  None  None  Long ago someone already had the bright idea o...  None   \n",
       "2  None  None  Seems to me this should be verified as legit d...  None   \n",
       "3  None  None  Here (Oregon) was the first place to legalize ...  None   \n",
       "4  None  None  Here&#x27;s a great &quot;wat&quot; talk for A...  None   \n",
       "\n",
       "               by  score        time                 timestamp     type  \\\n",
       "0         toraora    NaN  1572373754 2019-10-29 18:29:14+00:00  comment   \n",
       "1  soulofmischief    NaN  1572373752 2019-10-29 18:29:12+00:00  comment   \n",
       "2  alistproducer2    NaN  1475610309 2016-10-04 19:45:09+00:00  comment   \n",
       "3          davidw    NaN  1475610322 2016-10-04 19:45:22+00:00  comment   \n",
       "4         evan121    NaN  1475610324 2016-10-04 19:45:24+00:00  comment   \n",
       "\n",
       "         id    parent  descendants  ranking deleted  \n",
       "0  21390509  21390248          NaN      NaN    None  \n",
       "1  21390508  21390324          NaN      NaN    None  \n",
       "2  12638720  12638449          NaN      NaN    None  \n",
       "3  12638721  12635494          NaN      NaN    None  \n",
       "4  12638722  12638187          NaN      NaN    None  "
      ]
     },
     "execution_count": 21,
     "metadata": {},
     "output_type": "execute_result"
    }
   ],
   "source": [
    "# Preview the first five lines of the \"full\" table\n",
    "client.list_rows(table, max_results=5).to_dataframe()"
   ]
  },
  {
   "cell_type": "markdown",
   "id": "4cf4cb9a",
   "metadata": {},
   "source": [
    "The list_rows() method will also let us look at just the information in a specific column. If we want to see the first five entries in the by column, for example, we can do that!"
   ]
  },
  {
   "cell_type": "code",
   "execution_count": 22,
   "id": "d8c575d7",
   "metadata": {},
   "outputs": [
    {
     "data": {
      "text/html": [
       "<div>\n",
       "<style scoped>\n",
       "    .dataframe tbody tr th:only-of-type {\n",
       "        vertical-align: middle;\n",
       "    }\n",
       "\n",
       "    .dataframe tbody tr th {\n",
       "        vertical-align: top;\n",
       "    }\n",
       "\n",
       "    .dataframe thead th {\n",
       "        text-align: right;\n",
       "    }\n",
       "</style>\n",
       "<table border=\"1\" class=\"dataframe\">\n",
       "  <thead>\n",
       "    <tr style=\"text-align: right;\">\n",
       "      <th></th>\n",
       "      <th>title</th>\n",
       "    </tr>\n",
       "  </thead>\n",
       "  <tbody>\n",
       "    <tr>\n",
       "      <th>0</th>\n",
       "      <td>None</td>\n",
       "    </tr>\n",
       "    <tr>\n",
       "      <th>1</th>\n",
       "      <td>None</td>\n",
       "    </tr>\n",
       "    <tr>\n",
       "      <th>2</th>\n",
       "      <td>None</td>\n",
       "    </tr>\n",
       "    <tr>\n",
       "      <th>3</th>\n",
       "      <td>None</td>\n",
       "    </tr>\n",
       "    <tr>\n",
       "      <th>4</th>\n",
       "      <td>None</td>\n",
       "    </tr>\n",
       "  </tbody>\n",
       "</table>\n",
       "</div>"
      ],
      "text/plain": [
       "  title\n",
       "0  None\n",
       "1  None\n",
       "2  None\n",
       "3  None\n",
       "4  None"
      ]
     },
     "execution_count": 22,
     "metadata": {},
     "output_type": "execute_result"
    }
   ],
   "source": [
    "# Preview the first five entries in the \"by\" column of the \"full\" table\n",
    "client.list_rows(table, selected_fields=table.schema[:1], max_results=5).to_dataframe()"
   ]
  },
  {
   "cell_type": "markdown",
   "id": "5d304f36",
   "metadata": {},
   "source": [
    "# Select, From & Where\n",
    "\n",
    "First, set up everything to run queries and take a quick peek at the tables in database."
   ]
  },
  {
   "cell_type": "code",
   "execution_count": 23,
   "id": "3ede4d77",
   "metadata": {},
   "outputs": [],
   "source": [
    "# Create a \"client\" object\n",
    "client = bigquery.Client()\n",
    "\n",
    "#Construct a reference to the \"openaq\" dataset\n",
    "dataset_ref = client.dataset(\"openaq\",project=\"bigquery-public-data\")\n",
    "\n",
    "#API request - fetch the dataset\n",
    "dataset = client.get_dataset(dataset_ref)"
   ]
  },
  {
   "cell_type": "code",
   "execution_count": 24,
   "id": "c4e420a3",
   "metadata": {},
   "outputs": [
    {
     "name": "stdout",
     "output_type": "stream",
     "text": [
      "global_air_quality\n"
     ]
    }
   ],
   "source": [
    "# List all the tables in the \"openaq\" dataset\n",
    "tables =list(client.list_tables(dataset))\n",
    "\n",
    "# Print names of all tables in the dataset(there's only one!)\n",
    "for table in tables:\n",
    "    print(table.table_id)"
   ]
  },
  {
   "cell_type": "code",
   "execution_count": null,
   "id": "94d0ab13",
   "metadata": {},
   "outputs": [],
   "source": []
  }
 ],
 "metadata": {
  "kernelspec": {
   "display_name": "Python 3 (ipykernel)",
   "language": "python",
   "name": "python3"
  },
  "language_info": {
   "codemirror_mode": {
    "name": "ipython",
    "version": 3
   },
   "file_extension": ".py",
   "mimetype": "text/x-python",
   "name": "python",
   "nbconvert_exporter": "python",
   "pygments_lexer": "ipython3",
   "version": "3.8.11"
  }
 },
 "nbformat": 4,
 "nbformat_minor": 5
}
