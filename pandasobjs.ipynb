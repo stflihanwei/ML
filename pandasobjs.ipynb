{
 "cells": [
  {
   "cell_type": "markdown",
   "id": "dc7c678e-a205-4a9d-bd56-a68a3eee9de8",
   "metadata": {},
   "source": [
    "# Difference between Numpy array and pandas dataframe\n",
    "\n",
    "The essential difference is the presence of the index: while the Numpy Array has an implicitly defined integer index used to access the values, the Pandas Series has an explicitly defined index associated with the values.\n",
    "\n",
    "This explicit index definition gives the Series object additional capabilities. For example, the index need not be an integer, but can consist of values of any desired type. For example, if we wish, we can use strings as an index:"
   ]
  },
  {
   "cell_type": "code",
   "execution_count": 3,
   "id": "549097fc-8b1a-429d-b523-c1fc1bbd6ac5",
   "metadata": {},
   "outputs": [
    {
     "data": {
      "text/plain": [
       "0.5"
      ]
     },
     "execution_count": 3,
     "metadata": {},
     "output_type": "execute_result"
    }
   ],
   "source": [
    "import pandas as pd\n",
    "\n",
    "data = pd.Series([0.25, 0.5, 0.75, 1.0],\n",
    "                 index=['a', 'b', 'c', 'd'])\n",
    "data\n",
    "data['b']"
   ]
  },
  {
   "cell_type": "code",
   "execution_count": null,
   "id": "d5a17516-b432-4e50-b49a-225e2a0d78f4",
   "metadata": {},
   "outputs": [],
   "source": [
    "We can even use non-contiguous or non-sequential indices:"
   ]
  },
  {
   "cell_type": "code",
   "execution_count": 4,
   "id": "34c53dde-688d-4f43-a1d1-76211c66b830",
   "metadata": {},
   "outputs": [
    {
     "data": {
      "text/plain": [
       "0.5"
      ]
     },
     "execution_count": 4,
     "metadata": {},
     "output_type": "execute_result"
    }
   ],
   "source": [
    "data = pd.Series([0.25, 0.5, 0.75, 1.0],\n",
    "                 index=[2, 5, 3, 7])\n",
    "data\n",
    "data[5]"
   ]
  },
  {
   "cell_type": "markdown",
   "id": "516c9481-2f1b-4d73-8d46-392a20516792",
   "metadata": {},
   "source": [
    "# Pandas Index.tolist()\n",
    "\n",
    "Pandas Index.tolist() function return a list of the values. These are each a scalar type, which is a Python scalar (for str, int, float) or a pandas scalar (for Timestamp/Timedelta/Interval/Period).\n",
    "\n",
    "Syntax: Index.tolist()\n",
    "\n",
    "Parameters : None\n",
    "\n",
    "Returns : list"
   ]
  },
  {
   "cell_type": "code",
   "execution_count": 5,
   "id": "65769453-85cc-41ba-b36e-4b3a51bda584",
   "metadata": {},
   "outputs": [
    {
     "name": "stdout",
     "output_type": "stream",
     "text": [
      "Index(['Harry', 'Mike', 'Arther', 'Nick'], dtype='object', name='Student')\n"
     ]
    }
   ],
   "source": [
    "# importing pandas as pd\n",
    "import pandas as pd\n",
    "  \n",
    "# Creating the index\n",
    "idx = pd.Index(['Harry', 'Mike', 'Arther', 'Nick'],\n",
    "                                  name ='Student')\n",
    "  \n",
    "# Print the Index\n",
    "print(idx)"
   ]
  },
  {
   "cell_type": "code",
   "execution_count": 6,
   "id": "113204bb-0cae-4056-a0f9-555c91f61d61",
   "metadata": {},
   "outputs": [
    {
     "data": {
      "text/plain": [
       "['Harry', 'Mike', 'Arther', 'Nick']"
      ]
     },
     "execution_count": 6,
     "metadata": {},
     "output_type": "execute_result"
    }
   ],
   "source": [
    "# convert the index into a list\n",
    "idx.tolist()"
   ]
  },
  {
   "cell_type": "markdown",
   "id": "df581990-f865-4545-8065-7549591f3198",
   "metadata": {},
   "source": [
    "Example #2: Use Index.tolist() function to convert the index into a python list."
   ]
  },
  {
   "cell_type": "code",
   "execution_count": 7,
   "id": "17bfd252-4f41-4378-bfd4-c3f2d624ffec",
   "metadata": {},
   "outputs": [
    {
     "name": "stdout",
     "output_type": "stream",
     "text": [
      "Index(['2000-01-02', '2000-02-05', '2000-05-11', '2001-02-11', '2005-11-12'], dtype='object')\n"
     ]
    }
   ],
   "source": [
    "# importing pandas as pd\n",
    "import pandas as pd\n",
    "  \n",
    "# Creating the index\n",
    "idx = pd.Index(['2000-01-02', '2000-02-05', '2000-05-11',\n",
    "                            '2001-02-11', '2005-11-12'])\n",
    "  \n",
    "# Print the Index\n",
    "print(idx)"
   ]
  },
  {
   "cell_type": "code",
   "execution_count": 8,
   "id": "8fdc9a56-2145-4405-8993-940e6eb3ff19",
   "metadata": {},
   "outputs": [
    {
     "data": {
      "text/plain": [
       "['2000-01-02', '2000-02-05', '2000-05-11', '2001-02-11', '2005-11-12']"
      ]
     },
     "execution_count": 8,
     "metadata": {},
     "output_type": "execute_result"
    }
   ],
   "source": [
    "# convert the index into a list\n",
    "idx.tolist()"
   ]
  },
  {
   "cell_type": "markdown",
   "id": "7ae03d94-7380-48f2-a6d6-550f35d343ac",
   "metadata": {},
   "source": [
    "# Python List index()\n",
    "\n",
    "index() is an inbuilt function in Python, which searches for a given element from the start of the list and returns the lowest index where the element appears. \n",
    "\n",
    "Python index start from 0. \n",
    "\n",
    "Syntax:\n",
    "\n",
    "list_name.index(element, start, end)\n",
    "\n",
    "Parameters:  \n",
    "\n",
    "element – The element whose lowest index will be returned.\n",
    "start (Optional) – The position from where the search begins.\n",
    "end (Optional) – The position from where the search ends.\n",
    "Returns:  \n",
    "\n",
    "\n",
    "\n",
    "Returns the lowest index where the element appears.\n",
    "\n",
    "Error: \n",
    "\n",
    "If any element which is not present is searched, it returns a ValueError"
   ]
  },
  {
   "cell_type": "markdown",
   "id": "8484e43f-8d69-4016-b27e-18cf5f6d7bb2",
   "metadata": {},
   "source": [
    "list.index(x[, start[, end]])\n",
    "\n",
    "[,end] means that the parameter is optional. \n",
    "\n",
    "Return zero-based index in the list of the first item whose value is equal to x. Raises a ValueError if there is no such item.\n",
    "\n",
    "The optional arguments start and end are interpreted as in the slice notation and are used to limit the search to a particular subsequence of the list. The returned index is computed relative to the beginning of the full sequence rather than the start argument."
   ]
  },
  {
   "cell_type": "code",
   "execution_count": 10,
   "id": "39722da6-55dd-4991-9400-5cb3afc8f9b0",
   "metadata": {},
   "outputs": [
    {
     "name": "stdout",
     "output_type": "stream",
     "text": [
      "3\n",
      "0\n"
     ]
    }
   ],
   "source": [
    "# Python3 program for demonstration of list index() method\n",
    "  \n",
    "list1 = [1, 2, 3, 4, 1, 1, 1, 4, 5]\n",
    "  \n",
    "# Will print the index of '4' in list1\n",
    "print(list1.index(4))\n",
    "  \n",
    "list2 = ['cat', 'bat', 'mat', 'cat', 'pet']\n",
    "  \n",
    "# Will print the index of 'cat' in list2 \n",
    "print(list2.index('cat'))"
   ]
  },
  {
   "cell_type": "code",
   "execution_count": 14,
   "id": "8f753f0a-8b4e-4b2d-90a7-812fb06612c7",
   "metadata": {},
   "outputs": [
    {
     "name": "stdout",
     "output_type": "stream",
     "text": [
      "7\n",
      "4\n",
      "3\n",
      "3\n"
     ]
    }
   ],
   "source": [
    "list1 = [1, 2, 3, 4, 1, 1, 1, 4, 5]\n",
    "  \n",
    "# Will print index of '4' in sublist\n",
    "# having index from 4 to 8.\n",
    "print(list1.index(4, 4, 8))\n",
    "  \n",
    "# Will print index of '1' in sublist searching start index from 1 to 7.\n",
    "print(list1.index(1, 1, 7))\n",
    "  \n",
    "list2 = ['cat', 'bat', 'mat', 'cat', \n",
    "         'get', 'cat', 'sat', 'pet']\n",
    "  \n",
    "# Will print index of 'cat' in sublist searching start index from 2 to 6\n",
    "print(list2.index('cat', 2, 6 )) \n",
    "\n",
    "print(list2.index('cat', 2)) #searching start from index 2"
   ]
  },
  {
   "cell_type": "code",
   "execution_count": null,
   "id": "559d1608-21c1-4983-8cfd-c543e2dffe50",
   "metadata": {},
   "outputs": [],
   "source": []
  }
 ],
 "metadata": {
  "kernelspec": {
   "display_name": "Python 3 (ipykernel)",
   "language": "python",
   "name": "python3"
  },
  "language_info": {
   "codemirror_mode": {
    "name": "ipython",
    "version": 3
   },
   "file_extension": ".py",
   "mimetype": "text/x-python",
   "name": "python",
   "nbconvert_exporter": "python",
   "pygments_lexer": "ipython3",
   "version": "3.8.11"
  }
 },
 "nbformat": 4,
 "nbformat_minor": 5
}
